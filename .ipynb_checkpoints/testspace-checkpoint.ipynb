{
 "cells": [
  {
   "cell_type": "code",
   "execution_count": 45,
   "metadata": {
    "collapsed": true
   },
   "outputs": [],
   "source": [
    "# the same tree , using inorder tree, visiting the root first\n",
    "# Definition for a binary tree node.\n",
    "class TreeNode:\n",
    "    def __init__(self, x,left,right):\n",
    "        self.val = x\n",
    "        self.left = left\n",
    "        self.right = right\n",
    "\n",
    "class Solution:\n",
    "    \n",
    "    def order(self,root):\n",
    "        result,stack = [],[]\n",
    "        while True:\n",
    "            while root:\n",
    "               # print(root.val)\n",
    "                stack.append(root)\n",
    "                root=root.left\n",
    "            if not stack:\n",
    "                return result\n",
    "            else:\n",
    "                node=stack.pop()\n",
    "                result.append(node.val)\n",
    "                if node.left != None and node.right == None:\n",
    "                    result.append(None)\n",
    "                root=node.right\n",
    "\n",
    "    def isSameTree(self, p, q):\n",
    "        \"\"\"\n",
    "        :type p: TreeNode\n",
    "        :type q: TreeNode\n",
    "        :rtype: bool\n",
    "        \"\"\"\n",
    "        order_p=self.order(p)\n",
    "        print(order_p)\n",
    "        order_q=self.order(q)\n",
    "        print(order_q)\n",
    "        if order_p == order_q:\n",
    "            return True\n",
    "        else:\n",
    "            return False\n",
    "        "
   ]
  },
  {
   "cell_type": "code",
   "execution_count": 46,
   "metadata": {
    "collapsed": true
   },
   "outputs": [],
   "source": [
    "p_1=TreeNode(2,None,None)\n",
    "p_0=TreeNode(1,p_1,None)\n",
    "q_1=TreeNode(2,None,None)\n",
    "q_0=TreeNode(1,None,q_1)"
   ]
  },
  {
   "cell_type": "code",
   "execution_count": 47,
   "metadata": {},
   "outputs": [
    {
     "name": "stdout",
     "output_type": "stream",
     "text": [
      "[2, 1]\n",
      "[1, 2]\n"
     ]
    },
    {
     "data": {
      "text/plain": [
       "False"
      ]
     },
     "execution_count": 47,
     "metadata": {},
     "output_type": "execute_result"
    }
   ],
   "source": [
    "sl=Solution()\n",
    "sl.isSameTree(p_0,q_0)"
   ]
  },
  {
   "cell_type": "code",
   "execution_count": null,
   "metadata": {
    "collapsed": true
   },
   "outputs": [],
   "source": []
  }
 ],
 "metadata": {
  "kernelspec": {
   "display_name": "Python 3",
   "language": "python",
   "name": "python3"
  },
  "language_info": {
   "codemirror_mode": {
    "name": "ipython",
    "version": 3
   },
   "file_extension": ".py",
   "mimetype": "text/x-python",
   "name": "python",
   "nbconvert_exporter": "python",
   "pygments_lexer": "ipython3",
   "version": "3.6.1"
  }
 },
 "nbformat": 4,
 "nbformat_minor": 2
}
